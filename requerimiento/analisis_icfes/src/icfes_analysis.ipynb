{
 "cells": [
  {
   "cell_type": "code",
   "execution_count": 1,
   "id": "08885c7e-2405-449e-bb2f-28b1d8aa4657",
   "metadata": {},
   "outputs": [],
   "source": [
    "#import pandas as pd\n",
    "#from sodapy import Socrata\n",
    "\n",
    "#client = Socrata(\"www.datos.gov.co\", None)\n",
    "\n",
    "#df_2020_2 = pd.DataFrame(client.get(\"rnvb-vnyh\", limit=504872, offset=0))\n",
    "\n",
    "#df_2020_1 = pd.DataFrame(client.get(\"a8xr-en99\", limit=15435, offset=0))"
   ]
  },
  {
   "cell_type": "code",
   "execution_count": 2,
   "id": "fcfe5b96-efe2-4abc-9bd7-3af52dec9fcf",
   "metadata": {},
   "outputs": [],
   "source": [
    "import polars as pl\n",
    "import numpy as np\n",
    "from scipy import stats\n",
    "import matplotlib.pyplot as plt"
   ]
  },
  {
   "cell_type": "code",
   "execution_count": 3,
   "id": "152c80f3-72fd-4b21-84c6-0a02c48d65f0",
   "metadata": {},
   "outputs": [],
   "source": [
    "# define functions\n",
    "def lower_names(df):\n",
    "    l_names = {col: col.lower() for col in df.columns}\n",
    "    return df.rename(l_names)\n",
    "\n",
    "def plot_null_vals(df):\n",
    "    null_bool = df.select([pl.col(col).is_null() for col in df.columns])\n",
    "    \n",
    "    null_array = null_bool.to_numpy().astype(int).T\n",
    "    \n",
    "    fig, ax = plt.subplots(figsize=(10, 6))\n",
    "    \n",
    "    ax.imshow(null_array, aspect='auto', cmap='viridis', interpolation='none')\n",
    "    \n",
    "    ax.set_yticks(range(len(df.columns)))\n",
    "    ax.set_yticklabels(df.columns)\n",
    "    ax.set_xticks([])\n",
    "    plt.title('Valores nulos por columna')\n",
    "    \n",
    "    return plt.show()\n",
    "\n",
    "def data_type(df):\n",
    "    df_type = pl.DataFrame(\n",
    "        {\n",
    "            \"col_name\": df.columns,\n",
    "            \"var_type\": [df_h[col].dtype for col in df.columns]\n",
    "        }\n",
    "    )\n",
    "\n",
    "    return df_type\n",
    "\n",
    "def imputar_moda(df):\n",
    "    moda = (\n",
    "    df[df.columns[0]]\n",
    "    .value_counts(sort=True)\n",
    "    .get_column(df.columns[0])\n",
    "    .first()\n",
    ")   \n",
    "    return moda"
   ]
  },
  {
   "cell_type": "code",
   "execution_count": 4,
   "id": "452efbcf-2d27-4802-9f4a-e48204cd874b",
   "metadata": {},
   "outputs": [
    {
     "data": {
      "text/html": [
       "<div><style>\n",
       ".dataframe > thead > tr,\n",
       ".dataframe > tbody > tr {\n",
       "  text-align: right;\n",
       "  white-space: pre-wrap;\n",
       "}\n",
       "</style>\n",
       "<small>shape: (5, 51)</small><table border=\"1\" class=\"dataframe\"><thead><tr><th>PERIODO</th><th>ESTU_TIPODOCUMENTO</th><th>ESTU_CONSECUTIVO</th><th>COLE_AREA_UBICACION</th><th>COLE_BILINGUE</th><th>COLE_CALENDARIO</th><th>COLE_CARACTER</th><th>COLE_COD_DANE_ESTABLECIMIENTO</th><th>COLE_COD_DANE_SEDE</th><th>COLE_COD_DEPTO_UBICACION</th><th>COLE_COD_MCPIO_UBICACION</th><th>COLE_CODIGO_ICFES</th><th>COLE_DEPTO_UBICACION</th><th>COLE_GENERO</th><th>COLE_JORNADA</th><th>COLE_MCPIO_UBICACION</th><th>COLE_NATURALEZA</th><th>COLE_NOMBRE_ESTABLECIMIENTO</th><th>COLE_NOMBRE_SEDE</th><th>COLE_SEDE_PRINCIPAL</th><th>ESTU_COD_DEPTO_PRESENTACION</th><th>ESTU_COD_MCPIO_PRESENTACION</th><th>ESTU_COD_RESIDE_DEPTO</th><th>ESTU_COD_RESIDE_MCPIO</th><th>ESTU_DEPTO_PRESENTACION</th><th>ESTU_DEPTO_RESIDE</th><th>ESTU_ESTADOINVESTIGACION</th><th>ESTU_ESTUDIANTE</th><th>ESTU_FECHANACIMIENTO</th><th>ESTU_GENERO</th><th>ESTU_MCPIO_PRESENTACION</th><th>ESTU_MCPIO_RESIDE</th><th>ESTU_NACIONALIDAD</th><th>ESTU_PAIS_RESIDE</th><th>ESTU_PRIVADO_LIBERTAD</th><th>FAMI_CUARTOSHOGAR</th><th>FAMI_EDUCACIONMADRE</th><th>FAMI_EDUCACIONPADRE</th><th>FAMI_ESTRATOVIVIENDA</th><th>FAMI_PERSONASHOGAR</th><th>FAMI_TIENEAUTOMOVIL</th><th>FAMI_TIENECOMPUTADOR</th><th>FAMI_TIENEINTERNET</th><th>FAMI_TIENELAVADORA</th><th>DESEMP_INGLES</th><th>PUNT_INGLES</th><th>PUNT_MATEMATICAS</th><th>PUNT_SOCIALES_CIUDADANAS</th><th>PUNT_C_NATURALES</th><th>PUNT_LECTURA_CRITICA</th><th>PUNT_GLOBAL</th></tr><tr><td>i64</td><td>str</td><td>str</td><td>str</td><td>str</td><td>str</td><td>str</td><td>i64</td><td>i64</td><td>i64</td><td>i64</td><td>i64</td><td>str</td><td>str</td><td>str</td><td>str</td><td>str</td><td>str</td><td>str</td><td>str</td><td>i64</td><td>i64</td><td>i64</td><td>i64</td><td>str</td><td>str</td><td>str</td><td>str</td><td>str</td><td>str</td><td>str</td><td>str</td><td>str</td><td>str</td><td>str</td><td>str</td><td>str</td><td>str</td><td>str</td><td>str</td><td>str</td><td>str</td><td>str</td><td>str</td><td>str</td><td>str</td><td>str</td><td>i64</td><td>i64</td><td>i64</td><td>i64</td></tr></thead><tbody><tr><td>20131</td><td>&quot;CR&quot;</td><td>&quot;SB11201310000414&quot;</td><td>&quot;URBANO&quot;</td><td>&quot;N&quot;</td><td>&quot;B&quot;</td><td>&quot;ACADÉMICO&quot;</td><td>311848000812</td><td>311848000812</td><td>11</td><td>11001</td><td>22574</td><td>&quot;BOGOTA&quot;</td><td>&quot;FEMENINO&quot;</td><td>&quot;COMPLETA&quot;</td><td>&quot;BOGOTÁ D.C.&quot;</td><td>&quot;NO OFICIAL&quot;</td><td>&quot;GIMN FEMENINO&quot;</td><td>&quot;GIMN FEMENINO&quot;</td><td>&quot;S&quot;</td><td>11</td><td>11001</td><td>11</td><td>11001</td><td>&quot;BOGOTÁ&quot;</td><td>&quot;BOGOTÁ&quot;</td><td>&quot;PUBLICAR&quot;</td><td>&quot;ESTUDIANTE&quot;</td><td>&quot;08/08/1994&quot;</td><td>&quot;F&quot;</td><td>&quot;BOGOTÁ D.C.&quot;</td><td>&quot;BOGOTÁ D.C.&quot;</td><td>&quot;COLOMBIA&quot;</td><td>&quot;COLOMBIA&quot;</td><td>&quot;N&quot;</td><td>&quot;Cuatro&quot;</td><td>&quot;Educación profesional completa&quot;</td><td>&quot;Educación profesional completa&quot;</td><td>&quot;Estrato 6&quot;</td><td>&quot;Cuatro&quot;</td><td>&quot;Si&quot;</td><td>&quot;Si&quot;</td><td>&quot;Si&quot;</td><td>&quot;Si&quot;</td><td>&quot;B+&quot;</td><td>&quot;94&quot;</td><td>&quot;88&quot;</td><td>null</td><td>null</td><td>null</td><td>null</td></tr><tr><td>20194</td><td>&quot;TI&quot;</td><td>&quot;SB11201940464873&quot;</td><td>&quot;RURAL&quot;</td><td>&quot;N&quot;</td><td>&quot;A&quot;</td><td>&quot;TÉCNICO/ACADÉMICO&quot;</td><td>141016000305</td><td>241016000342</td><td>41</td><td>41016</td><td>194878</td><td>&quot;HUILA&quot;</td><td>&quot;MIXTO&quot;</td><td>&quot;COMPLETA&quot;</td><td>&quot;AIPE&quot;</td><td>&quot;OFICIAL&quot;</td><td>&quot;INSTITUCION EDUCATIVA JESUS MA…</td><td>&quot;DINDAL&quot;</td><td>&quot;N&quot;</td><td>41</td><td>41016</td><td>41</td><td>41016</td><td>&quot;HUILA&quot;</td><td>&quot;HUILA&quot;</td><td>&quot;PUBLICAR&quot;</td><td>&quot;ESTUDIANTE&quot;</td><td>&quot;15/02/2003&quot;</td><td>&quot;F&quot;</td><td>&quot;AIPE&quot;</td><td>&quot;AIPE&quot;</td><td>&quot;COLOMBIA&quot;</td><td>&quot;COLOMBIA&quot;</td><td>&quot;N&quot;</td><td>&quot;Dos&quot;</td><td>&quot;Postgrado&quot;</td><td>&quot;Primaria completa&quot;</td><td>&quot;Estrato 2&quot;</td><td>&quot;1 a 2&quot;</td><td>&quot;No&quot;</td><td>&quot;Si&quot;</td><td>&quot;Si&quot;</td><td>&quot;Si&quot;</td><td>&quot;B1&quot;</td><td>&quot;71&quot;</td><td>&quot;66&quot;</td><td>70</td><td>65</td><td>69</td><td>339</td></tr><tr><td>20194</td><td>&quot;TI&quot;</td><td>&quot;SB11201940464873&quot;</td><td>&quot;RURAL&quot;</td><td>&quot;N&quot;</td><td>&quot;A&quot;</td><td>&quot;TÉCNICO/ACADÉMICO&quot;</td><td>141016000305</td><td>241016000342</td><td>41</td><td>41016</td><td>194878</td><td>&quot;HUILA&quot;</td><td>&quot;MIXTO&quot;</td><td>&quot;COMPLETA&quot;</td><td>&quot;AIPE&quot;</td><td>&quot;OFICIAL&quot;</td><td>&quot;INSTITUCION EDUCATIVA JESUS MA…</td><td>&quot;DINDAL&quot;</td><td>&quot;N&quot;</td><td>41</td><td>41016</td><td>41</td><td>41016</td><td>&quot;HUILA&quot;</td><td>&quot;HUILA&quot;</td><td>&quot;PUBLICAR&quot;</td><td>&quot;ESTUDIANTE&quot;</td><td>&quot;15/02/2003&quot;</td><td>&quot;F&quot;</td><td>&quot;AIPE&quot;</td><td>&quot;AIPE&quot;</td><td>&quot;COLOMBIA&quot;</td><td>&quot;COLOMBIA&quot;</td><td>&quot;N&quot;</td><td>&quot;Dos&quot;</td><td>&quot;Postgrado&quot;</td><td>&quot;Primaria completa&quot;</td><td>&quot;Estrato 2&quot;</td><td>&quot;1 a 2&quot;</td><td>&quot;No&quot;</td><td>&quot;Si&quot;</td><td>&quot;Si&quot;</td><td>&quot;Si&quot;</td><td>&quot;B1&quot;</td><td>&quot;71&quot;</td><td>&quot;66&quot;</td><td>70</td><td>65</td><td>69</td><td>339</td></tr><tr><td>20122</td><td>&quot;TI&quot;</td><td>&quot;SB11201220204399&quot;</td><td>&quot;URBANO&quot;</td><td>&quot;N&quot;</td><td>&quot;A&quot;</td><td>&quot;TÉCNICO/ACADÉMICO&quot;</td><td>163130000718</td><td>163130000718</td><td>63</td><td>63130</td><td>13029</td><td>&quot;QUINDIO&quot;</td><td>&quot;MIXTO&quot;</td><td>&quot;MAÑANA&quot;</td><td>&quot;CALARCÁ&quot;</td><td>&quot;OFICIAL&quot;</td><td>&quot;INSTITUCION EDUCATIVA ANTONIO …</td><td>&quot;ANTONIO NARIÑO&quot;</td><td>&quot;S&quot;</td><td>63</td><td>63130</td><td>63</td><td>63130</td><td>&quot;QUINDIO&quot;</td><td>&quot;QUINDIO&quot;</td><td>&quot;PUBLICAR&quot;</td><td>&quot;ESTUDIANTE&quot;</td><td>&quot;20/05/1996&quot;</td><td>&quot;F&quot;</td><td>&quot;CALARCÁ&quot;</td><td>&quot;CALARCÁ&quot;</td><td>&quot;COLOMBIA&quot;</td><td>&quot;COLOMBIA&quot;</td><td>&quot;N&quot;</td><td>&quot;Dos&quot;</td><td>&quot;Secundaria (Bachillerato) inco…</td><td>&quot;No sabe&quot;</td><td>&quot;Estrato 1&quot;</td><td>&quot;Cuatro&quot;</td><td>&quot;No&quot;</td><td>&quot;Si&quot;</td><td>&quot;Si&quot;</td><td>&quot;No&quot;</td><td>&quot;A1&quot;</td><td>&quot;48&quot;</td><td>&quot;45&quot;</td><td>null</td><td>null</td><td>null</td><td>null</td></tr><tr><td>20132</td><td>&quot;TI&quot;</td><td>&quot;SB11201320464198&quot;</td><td>&quot;URBANO&quot;</td><td>&quot;N&quot;</td><td>&quot;A&quot;</td><td>&quot;TÉCNICO&quot;</td><td>119001000559</td><td>119001000559</td><td>19</td><td>19001</td><td>46391</td><td>&quot;CAUCA&quot;</td><td>&quot;FEMENINO&quot;</td><td>&quot;MAÑANA&quot;</td><td>&quot;POPAYÁN&quot;</td><td>&quot;OFICIAL&quot;</td><td>&quot;CRISTO REY&quot;</td><td>&quot;SEDE CRISTO REY&quot;</td><td>&quot;S&quot;</td><td>19</td><td>19001</td><td>19</td><td>19001</td><td>&quot;CAUCA&quot;</td><td>&quot;CAUCA&quot;</td><td>&quot;PUBLICAR&quot;</td><td>&quot;ESTUDIANTE&quot;</td><td>&quot;19/03/1997&quot;</td><td>&quot;F&quot;</td><td>&quot;POPAYÁN&quot;</td><td>&quot;POPAYÁN&quot;</td><td>&quot;COLOMBIA&quot;</td><td>&quot;COLOMBIA&quot;</td><td>&quot;N&quot;</td><td>&quot;Cinco&quot;</td><td>&quot;Educación profesional completa&quot;</td><td>&quot;Educación profesional incomple…</td><td>&quot;Estrato 2&quot;</td><td>&quot;Ocho&quot;</td><td>&quot;No&quot;</td><td>&quot;Si&quot;</td><td>&quot;Si&quot;</td><td>&quot;Si&quot;</td><td>&quot;A-&quot;</td><td>&quot;43&quot;</td><td>&quot;52&quot;</td><td>null</td><td>null</td><td>null</td><td>null</td></tr></tbody></table></div>"
      ],
      "text/plain": [
       "shape: (5, 51)\n",
       "┌─────────┬───────────────┬──────────────┬──────────────┬───┬──────────────┬──────────────┬──────────────┬─────────────┐\n",
       "│ PERIODO ┆ ESTU_TIPODOCU ┆ ESTU_CONSECU ┆ COLE_AREA_UB ┆ … ┆ PUNT_SOCIALE ┆ PUNT_C_NATUR ┆ PUNT_LECTURA ┆ PUNT_GLOBAL │\n",
       "│ ---     ┆ MENTO         ┆ TIVO         ┆ ICACION      ┆   ┆ S_CIUDADANAS ┆ ALES         ┆ _CRITICA     ┆ ---         │\n",
       "│ i64     ┆ ---           ┆ ---          ┆ ---          ┆   ┆ ---          ┆ ---          ┆ ---          ┆ i64         │\n",
       "│         ┆ str           ┆ str          ┆ str          ┆   ┆ i64          ┆ i64          ┆ i64          ┆             │\n",
       "╞═════════╪═══════════════╪══════════════╪══════════════╪═══╪══════════════╪══════════════╪══════════════╪═════════════╡\n",
       "│ 20131   ┆ CR            ┆ SB1120131000 ┆ URBANO       ┆ … ┆ null         ┆ null         ┆ null         ┆ null        │\n",
       "│         ┆               ┆ 0414         ┆              ┆   ┆              ┆              ┆              ┆             │\n",
       "│ 20194   ┆ TI            ┆ SB1120194046 ┆ RURAL        ┆ … ┆ 70           ┆ 65           ┆ 69           ┆ 339         │\n",
       "│         ┆               ┆ 4873         ┆              ┆   ┆              ┆              ┆              ┆             │\n",
       "│ 20194   ┆ TI            ┆ SB1120194046 ┆ RURAL        ┆ … ┆ 70           ┆ 65           ┆ 69           ┆ 339         │\n",
       "│         ┆               ┆ 4873         ┆              ┆   ┆              ┆              ┆              ┆             │\n",
       "│ 20122   ┆ TI            ┆ SB1120122020 ┆ URBANO       ┆ … ┆ null         ┆ null         ┆ null         ┆ null        │\n",
       "│         ┆               ┆ 4399         ┆              ┆   ┆              ┆              ┆              ┆             │\n",
       "│ 20132   ┆ TI            ┆ SB1120132046 ┆ URBANO       ┆ … ┆ null         ┆ null         ┆ null         ┆ null        │\n",
       "│         ┆               ┆ 4198         ┆              ┆   ┆              ┆              ┆              ┆             │\n",
       "└─────────┴───────────────┴──────────────┴──────────────┴───┴──────────────┴──────────────┴──────────────┴─────────────┘"
      ]
     },
     "execution_count": 4,
     "metadata": {},
     "output_type": "execute_result"
    }
   ],
   "source": [
    "# load data\n",
    "df_h = pl.read_csv(\"/Users/sebas/OneDrive/Documents/repositorio_cepap/CEPAP/data_source/educacion/2025/Resultados__nicos_Saber_11_20250303.tsv\", separator=\"\\t\", decimal_comma = True)\n",
    "\n",
    "df_h.head()"
   ]
  },
  {
   "cell_type": "code",
   "execution_count": 5,
   "id": "baa3898b-eab3-4cbf-a3b9-24b62e8cefaf",
   "metadata": {},
   "outputs": [
    {
     "data": {
      "text/html": [
       "<div><style>\n",
       ".dataframe > thead > tr,\n",
       ".dataframe > tbody > tr {\n",
       "  text-align: right;\n",
       "  white-space: pre-wrap;\n",
       "}\n",
       "</style>\n",
       "<small>shape: (5, 51)</small><table border=\"1\" class=\"dataframe\"><thead><tr><th>periodo</th><th>estu_tipodocumento</th><th>estu_consecutivo</th><th>cole_area_ubicacion</th><th>cole_bilingue</th><th>cole_calendario</th><th>cole_caracter</th><th>cole_cod_dane_establecimiento</th><th>cole_cod_dane_sede</th><th>cole_cod_depto_ubicacion</th><th>cole_cod_mcpio_ubicacion</th><th>cole_codigo_icfes</th><th>cole_depto_ubicacion</th><th>cole_genero</th><th>cole_jornada</th><th>cole_mcpio_ubicacion</th><th>cole_naturaleza</th><th>cole_nombre_establecimiento</th><th>cole_nombre_sede</th><th>cole_sede_principal</th><th>estu_cod_depto_presentacion</th><th>estu_cod_mcpio_presentacion</th><th>estu_cod_reside_depto</th><th>estu_cod_reside_mcpio</th><th>estu_depto_presentacion</th><th>estu_depto_reside</th><th>estu_estadoinvestigacion</th><th>estu_estudiante</th><th>estu_fechanacimiento</th><th>estu_genero</th><th>estu_mcpio_presentacion</th><th>estu_mcpio_reside</th><th>estu_nacionalidad</th><th>estu_pais_reside</th><th>estu_privado_libertad</th><th>fami_cuartoshogar</th><th>fami_educacionmadre</th><th>fami_educacionpadre</th><th>fami_estratovivienda</th><th>fami_personashogar</th><th>fami_tieneautomovil</th><th>fami_tienecomputador</th><th>fami_tieneinternet</th><th>fami_tienelavadora</th><th>desemp_ingles</th><th>punt_ingles</th><th>punt_matematicas</th><th>punt_sociales_ciudadanas</th><th>punt_c_naturales</th><th>punt_lectura_critica</th><th>punt_global</th></tr><tr><td>i64</td><td>str</td><td>str</td><td>str</td><td>str</td><td>str</td><td>str</td><td>i64</td><td>i64</td><td>i64</td><td>i64</td><td>i64</td><td>str</td><td>str</td><td>str</td><td>str</td><td>str</td><td>str</td><td>str</td><td>str</td><td>i64</td><td>i64</td><td>i64</td><td>i64</td><td>str</td><td>str</td><td>str</td><td>str</td><td>str</td><td>str</td><td>str</td><td>str</td><td>str</td><td>str</td><td>str</td><td>str</td><td>str</td><td>str</td><td>str</td><td>str</td><td>str</td><td>str</td><td>str</td><td>str</td><td>str</td><td>str</td><td>str</td><td>i64</td><td>i64</td><td>i64</td><td>i64</td></tr></thead><tbody><tr><td>20131</td><td>&quot;CR&quot;</td><td>&quot;SB11201310000414&quot;</td><td>&quot;URBANO&quot;</td><td>&quot;N&quot;</td><td>&quot;B&quot;</td><td>&quot;ACADÉMICO&quot;</td><td>311848000812</td><td>311848000812</td><td>11</td><td>11001</td><td>22574</td><td>&quot;BOGOTA&quot;</td><td>&quot;FEMENINO&quot;</td><td>&quot;COMPLETA&quot;</td><td>&quot;BOGOTÁ D.C.&quot;</td><td>&quot;NO OFICIAL&quot;</td><td>&quot;GIMN FEMENINO&quot;</td><td>&quot;GIMN FEMENINO&quot;</td><td>&quot;S&quot;</td><td>11</td><td>11001</td><td>11</td><td>11001</td><td>&quot;BOGOTÁ&quot;</td><td>&quot;BOGOTÁ&quot;</td><td>&quot;PUBLICAR&quot;</td><td>&quot;ESTUDIANTE&quot;</td><td>&quot;08/08/1994&quot;</td><td>&quot;F&quot;</td><td>&quot;BOGOTÁ D.C.&quot;</td><td>&quot;BOGOTÁ D.C.&quot;</td><td>&quot;COLOMBIA&quot;</td><td>&quot;COLOMBIA&quot;</td><td>&quot;N&quot;</td><td>&quot;Cuatro&quot;</td><td>&quot;Educación profesional completa&quot;</td><td>&quot;Educación profesional completa&quot;</td><td>&quot;Estrato 6&quot;</td><td>&quot;Cuatro&quot;</td><td>&quot;Si&quot;</td><td>&quot;Si&quot;</td><td>&quot;Si&quot;</td><td>&quot;Si&quot;</td><td>&quot;B+&quot;</td><td>&quot;94&quot;</td><td>&quot;88&quot;</td><td>null</td><td>null</td><td>null</td><td>null</td></tr><tr><td>20194</td><td>&quot;TI&quot;</td><td>&quot;SB11201940464873&quot;</td><td>&quot;RURAL&quot;</td><td>&quot;N&quot;</td><td>&quot;A&quot;</td><td>&quot;TÉCNICO/ACADÉMICO&quot;</td><td>141016000305</td><td>241016000342</td><td>41</td><td>41016</td><td>194878</td><td>&quot;HUILA&quot;</td><td>&quot;MIXTO&quot;</td><td>&quot;COMPLETA&quot;</td><td>&quot;AIPE&quot;</td><td>&quot;OFICIAL&quot;</td><td>&quot;INSTITUCION EDUCATIVA JESUS MA…</td><td>&quot;DINDAL&quot;</td><td>&quot;N&quot;</td><td>41</td><td>41016</td><td>41</td><td>41016</td><td>&quot;HUILA&quot;</td><td>&quot;HUILA&quot;</td><td>&quot;PUBLICAR&quot;</td><td>&quot;ESTUDIANTE&quot;</td><td>&quot;15/02/2003&quot;</td><td>&quot;F&quot;</td><td>&quot;AIPE&quot;</td><td>&quot;AIPE&quot;</td><td>&quot;COLOMBIA&quot;</td><td>&quot;COLOMBIA&quot;</td><td>&quot;N&quot;</td><td>&quot;Dos&quot;</td><td>&quot;Postgrado&quot;</td><td>&quot;Primaria completa&quot;</td><td>&quot;Estrato 2&quot;</td><td>&quot;1 a 2&quot;</td><td>&quot;No&quot;</td><td>&quot;Si&quot;</td><td>&quot;Si&quot;</td><td>&quot;Si&quot;</td><td>&quot;B1&quot;</td><td>&quot;71&quot;</td><td>&quot;66&quot;</td><td>70</td><td>65</td><td>69</td><td>339</td></tr><tr><td>20194</td><td>&quot;TI&quot;</td><td>&quot;SB11201940464873&quot;</td><td>&quot;RURAL&quot;</td><td>&quot;N&quot;</td><td>&quot;A&quot;</td><td>&quot;TÉCNICO/ACADÉMICO&quot;</td><td>141016000305</td><td>241016000342</td><td>41</td><td>41016</td><td>194878</td><td>&quot;HUILA&quot;</td><td>&quot;MIXTO&quot;</td><td>&quot;COMPLETA&quot;</td><td>&quot;AIPE&quot;</td><td>&quot;OFICIAL&quot;</td><td>&quot;INSTITUCION EDUCATIVA JESUS MA…</td><td>&quot;DINDAL&quot;</td><td>&quot;N&quot;</td><td>41</td><td>41016</td><td>41</td><td>41016</td><td>&quot;HUILA&quot;</td><td>&quot;HUILA&quot;</td><td>&quot;PUBLICAR&quot;</td><td>&quot;ESTUDIANTE&quot;</td><td>&quot;15/02/2003&quot;</td><td>&quot;F&quot;</td><td>&quot;AIPE&quot;</td><td>&quot;AIPE&quot;</td><td>&quot;COLOMBIA&quot;</td><td>&quot;COLOMBIA&quot;</td><td>&quot;N&quot;</td><td>&quot;Dos&quot;</td><td>&quot;Postgrado&quot;</td><td>&quot;Primaria completa&quot;</td><td>&quot;Estrato 2&quot;</td><td>&quot;1 a 2&quot;</td><td>&quot;No&quot;</td><td>&quot;Si&quot;</td><td>&quot;Si&quot;</td><td>&quot;Si&quot;</td><td>&quot;B1&quot;</td><td>&quot;71&quot;</td><td>&quot;66&quot;</td><td>70</td><td>65</td><td>69</td><td>339</td></tr><tr><td>20122</td><td>&quot;TI&quot;</td><td>&quot;SB11201220204399&quot;</td><td>&quot;URBANO&quot;</td><td>&quot;N&quot;</td><td>&quot;A&quot;</td><td>&quot;TÉCNICO/ACADÉMICO&quot;</td><td>163130000718</td><td>163130000718</td><td>63</td><td>63130</td><td>13029</td><td>&quot;QUINDIO&quot;</td><td>&quot;MIXTO&quot;</td><td>&quot;MAÑANA&quot;</td><td>&quot;CALARCÁ&quot;</td><td>&quot;OFICIAL&quot;</td><td>&quot;INSTITUCION EDUCATIVA ANTONIO …</td><td>&quot;ANTONIO NARIÑO&quot;</td><td>&quot;S&quot;</td><td>63</td><td>63130</td><td>63</td><td>63130</td><td>&quot;QUINDIO&quot;</td><td>&quot;QUINDIO&quot;</td><td>&quot;PUBLICAR&quot;</td><td>&quot;ESTUDIANTE&quot;</td><td>&quot;20/05/1996&quot;</td><td>&quot;F&quot;</td><td>&quot;CALARCÁ&quot;</td><td>&quot;CALARCÁ&quot;</td><td>&quot;COLOMBIA&quot;</td><td>&quot;COLOMBIA&quot;</td><td>&quot;N&quot;</td><td>&quot;Dos&quot;</td><td>&quot;Secundaria (Bachillerato) inco…</td><td>&quot;No sabe&quot;</td><td>&quot;Estrato 1&quot;</td><td>&quot;Cuatro&quot;</td><td>&quot;No&quot;</td><td>&quot;Si&quot;</td><td>&quot;Si&quot;</td><td>&quot;No&quot;</td><td>&quot;A1&quot;</td><td>&quot;48&quot;</td><td>&quot;45&quot;</td><td>null</td><td>null</td><td>null</td><td>null</td></tr><tr><td>20132</td><td>&quot;TI&quot;</td><td>&quot;SB11201320464198&quot;</td><td>&quot;URBANO&quot;</td><td>&quot;N&quot;</td><td>&quot;A&quot;</td><td>&quot;TÉCNICO&quot;</td><td>119001000559</td><td>119001000559</td><td>19</td><td>19001</td><td>46391</td><td>&quot;CAUCA&quot;</td><td>&quot;FEMENINO&quot;</td><td>&quot;MAÑANA&quot;</td><td>&quot;POPAYÁN&quot;</td><td>&quot;OFICIAL&quot;</td><td>&quot;CRISTO REY&quot;</td><td>&quot;SEDE CRISTO REY&quot;</td><td>&quot;S&quot;</td><td>19</td><td>19001</td><td>19</td><td>19001</td><td>&quot;CAUCA&quot;</td><td>&quot;CAUCA&quot;</td><td>&quot;PUBLICAR&quot;</td><td>&quot;ESTUDIANTE&quot;</td><td>&quot;19/03/1997&quot;</td><td>&quot;F&quot;</td><td>&quot;POPAYÁN&quot;</td><td>&quot;POPAYÁN&quot;</td><td>&quot;COLOMBIA&quot;</td><td>&quot;COLOMBIA&quot;</td><td>&quot;N&quot;</td><td>&quot;Cinco&quot;</td><td>&quot;Educación profesional completa&quot;</td><td>&quot;Educación profesional incomple…</td><td>&quot;Estrato 2&quot;</td><td>&quot;Ocho&quot;</td><td>&quot;No&quot;</td><td>&quot;Si&quot;</td><td>&quot;Si&quot;</td><td>&quot;Si&quot;</td><td>&quot;A-&quot;</td><td>&quot;43&quot;</td><td>&quot;52&quot;</td><td>null</td><td>null</td><td>null</td><td>null</td></tr></tbody></table></div>"
      ],
      "text/plain": [
       "shape: (5, 51)\n",
       "┌─────────┬───────────────┬──────────────┬──────────────┬───┬──────────────┬──────────────┬──────────────┬─────────────┐\n",
       "│ periodo ┆ estu_tipodocu ┆ estu_consecu ┆ cole_area_ub ┆ … ┆ punt_sociale ┆ punt_c_natur ┆ punt_lectura ┆ punt_global │\n",
       "│ ---     ┆ mento         ┆ tivo         ┆ icacion      ┆   ┆ s_ciudadanas ┆ ales         ┆ _critica     ┆ ---         │\n",
       "│ i64     ┆ ---           ┆ ---          ┆ ---          ┆   ┆ ---          ┆ ---          ┆ ---          ┆ i64         │\n",
       "│         ┆ str           ┆ str          ┆ str          ┆   ┆ i64          ┆ i64          ┆ i64          ┆             │\n",
       "╞═════════╪═══════════════╪══════════════╪══════════════╪═══╪══════════════╪══════════════╪══════════════╪═════════════╡\n",
       "│ 20131   ┆ CR            ┆ SB1120131000 ┆ URBANO       ┆ … ┆ null         ┆ null         ┆ null         ┆ null        │\n",
       "│         ┆               ┆ 0414         ┆              ┆   ┆              ┆              ┆              ┆             │\n",
       "│ 20194   ┆ TI            ┆ SB1120194046 ┆ RURAL        ┆ … ┆ 70           ┆ 65           ┆ 69           ┆ 339         │\n",
       "│         ┆               ┆ 4873         ┆              ┆   ┆              ┆              ┆              ┆             │\n",
       "│ 20194   ┆ TI            ┆ SB1120194046 ┆ RURAL        ┆ … ┆ 70           ┆ 65           ┆ 69           ┆ 339         │\n",
       "│         ┆               ┆ 4873         ┆              ┆   ┆              ┆              ┆              ┆             │\n",
       "│ 20122   ┆ TI            ┆ SB1120122020 ┆ URBANO       ┆ … ┆ null         ┆ null         ┆ null         ┆ null        │\n",
       "│         ┆               ┆ 4399         ┆              ┆   ┆              ┆              ┆              ┆             │\n",
       "│ 20132   ┆ TI            ┆ SB1120132046 ┆ URBANO       ┆ … ┆ null         ┆ null         ┆ null         ┆ null        │\n",
       "│         ┆               ┆ 4198         ┆              ┆   ┆              ┆              ┆              ┆             │\n",
       "└─────────┴───────────────┴──────────────┴──────────────┴───┴──────────────┴──────────────┴──────────────┴─────────────┘"
      ]
     },
     "execution_count": 5,
     "metadata": {},
     "output_type": "execute_result"
    }
   ],
   "source": [
    "# clean names\n",
    "df_h = lower_names(df_h)\n",
    "\n",
    "df_h.head()"
   ]
  },
  {
   "cell_type": "code",
   "execution_count": 6,
   "id": "d1502021-9d62-4288-9862-505f593c8071",
   "metadata": {},
   "outputs": [],
   "source": [
    "# Explorar variables por prefijos\n",
    "prefjs = [\"cole\", \"estu_\", \"fami_\", \"punt_\"]"
   ]
  },
  {
   "cell_type": "code",
   "execution_count": 7,
   "id": "12785369-78ed-4d30-b3d4-b040d75882b8",
   "metadata": {},
   "outputs": [
    {
     "data": {
      "text/html": [
       "<div><style>\n",
       ".dataframe > thead > tr,\n",
       ".dataframe > tbody > tr {\n",
       "  text-align: right;\n",
       "  white-space: pre-wrap;\n",
       "}\n",
       "</style>\n",
       "<small>shape: (5, 17)</small><table border=\"1\" class=\"dataframe\"><thead><tr><th>cole_area_ubicacion</th><th>cole_bilingue</th><th>cole_calendario</th><th>cole_caracter</th><th>cole_cod_dane_establecimiento</th><th>cole_cod_dane_sede</th><th>cole_cod_depto_ubicacion</th><th>cole_cod_mcpio_ubicacion</th><th>cole_codigo_icfes</th><th>cole_depto_ubicacion</th><th>cole_genero</th><th>cole_jornada</th><th>cole_mcpio_ubicacion</th><th>cole_naturaleza</th><th>cole_nombre_establecimiento</th><th>cole_nombre_sede</th><th>cole_sede_principal</th></tr><tr><td>str</td><td>str</td><td>str</td><td>str</td><td>i64</td><td>i64</td><td>i64</td><td>i64</td><td>i64</td><td>str</td><td>str</td><td>str</td><td>str</td><td>str</td><td>str</td><td>str</td><td>str</td></tr></thead><tbody><tr><td>&quot;URBANO&quot;</td><td>&quot;N&quot;</td><td>&quot;B&quot;</td><td>&quot;ACADÉMICO&quot;</td><td>311848000812</td><td>311848000812</td><td>11</td><td>11001</td><td>22574</td><td>&quot;BOGOTA&quot;</td><td>&quot;FEMENINO&quot;</td><td>&quot;COMPLETA&quot;</td><td>&quot;BOGOTÁ D.C.&quot;</td><td>&quot;NO OFICIAL&quot;</td><td>&quot;GIMN FEMENINO&quot;</td><td>&quot;GIMN FEMENINO&quot;</td><td>&quot;S&quot;</td></tr><tr><td>&quot;RURAL&quot;</td><td>&quot;N&quot;</td><td>&quot;A&quot;</td><td>&quot;TÉCNICO/ACADÉMICO&quot;</td><td>141016000305</td><td>241016000342</td><td>41</td><td>41016</td><td>194878</td><td>&quot;HUILA&quot;</td><td>&quot;MIXTO&quot;</td><td>&quot;COMPLETA&quot;</td><td>&quot;AIPE&quot;</td><td>&quot;OFICIAL&quot;</td><td>&quot;INSTITUCION EDUCATIVA JESUS MA…</td><td>&quot;DINDAL&quot;</td><td>&quot;N&quot;</td></tr><tr><td>&quot;RURAL&quot;</td><td>&quot;N&quot;</td><td>&quot;A&quot;</td><td>&quot;TÉCNICO/ACADÉMICO&quot;</td><td>141016000305</td><td>241016000342</td><td>41</td><td>41016</td><td>194878</td><td>&quot;HUILA&quot;</td><td>&quot;MIXTO&quot;</td><td>&quot;COMPLETA&quot;</td><td>&quot;AIPE&quot;</td><td>&quot;OFICIAL&quot;</td><td>&quot;INSTITUCION EDUCATIVA JESUS MA…</td><td>&quot;DINDAL&quot;</td><td>&quot;N&quot;</td></tr><tr><td>&quot;URBANO&quot;</td><td>&quot;N&quot;</td><td>&quot;A&quot;</td><td>&quot;TÉCNICO/ACADÉMICO&quot;</td><td>163130000718</td><td>163130000718</td><td>63</td><td>63130</td><td>13029</td><td>&quot;QUINDIO&quot;</td><td>&quot;MIXTO&quot;</td><td>&quot;MAÑANA&quot;</td><td>&quot;CALARCÁ&quot;</td><td>&quot;OFICIAL&quot;</td><td>&quot;INSTITUCION EDUCATIVA ANTONIO …</td><td>&quot;ANTONIO NARIÑO&quot;</td><td>&quot;S&quot;</td></tr><tr><td>&quot;URBANO&quot;</td><td>&quot;N&quot;</td><td>&quot;A&quot;</td><td>&quot;TÉCNICO&quot;</td><td>119001000559</td><td>119001000559</td><td>19</td><td>19001</td><td>46391</td><td>&quot;CAUCA&quot;</td><td>&quot;FEMENINO&quot;</td><td>&quot;MAÑANA&quot;</td><td>&quot;POPAYÁN&quot;</td><td>&quot;OFICIAL&quot;</td><td>&quot;CRISTO REY&quot;</td><td>&quot;SEDE CRISTO REY&quot;</td><td>&quot;S&quot;</td></tr></tbody></table></div>"
      ],
      "text/plain": [
       "shape: (5, 17)\n",
       "┌──────────────┬──────────────┬──────────────┬─────────────┬───┬─────────────┬─────────────┬─────────────┬─────────────┐\n",
       "│ cole_area_ub ┆ cole_bilingu ┆ cole_calenda ┆ cole_caract ┆ … ┆ cole_natura ┆ cole_nombre ┆ cole_nombre ┆ cole_sede_p │\n",
       "│ icacion      ┆ e            ┆ rio          ┆ er          ┆   ┆ leza        ┆ _establecim ┆ _sede       ┆ rincipal    │\n",
       "│ ---          ┆ ---          ┆ ---          ┆ ---         ┆   ┆ ---         ┆ iento       ┆ ---         ┆ ---         │\n",
       "│ str          ┆ str          ┆ str          ┆ str         ┆   ┆ str         ┆ ---         ┆ str         ┆ str         │\n",
       "│              ┆              ┆              ┆             ┆   ┆             ┆ str         ┆             ┆             │\n",
       "╞══════════════╪══════════════╪══════════════╪═════════════╪═══╪═════════════╪═════════════╪═════════════╪═════════════╡\n",
       "│ URBANO       ┆ N            ┆ B            ┆ ACADÉMICO   ┆ … ┆ NO OFICIAL  ┆ GIMN        ┆ GIMN        ┆ S           │\n",
       "│              ┆              ┆              ┆             ┆   ┆             ┆ FEMENINO    ┆ FEMENINO    ┆             │\n",
       "│ RURAL        ┆ N            ┆ A            ┆ TÉCNICO/ACA ┆ … ┆ OFICIAL     ┆ INSTITUCION ┆ DINDAL      ┆ N           │\n",
       "│              ┆              ┆              ┆ DÉMICO      ┆   ┆             ┆ EDUCATIVA   ┆             ┆             │\n",
       "│              ┆              ┆              ┆             ┆   ┆             ┆ JESUS MA…   ┆             ┆             │\n",
       "│ RURAL        ┆ N            ┆ A            ┆ TÉCNICO/ACA ┆ … ┆ OFICIAL     ┆ INSTITUCION ┆ DINDAL      ┆ N           │\n",
       "│              ┆              ┆              ┆ DÉMICO      ┆   ┆             ┆ EDUCATIVA   ┆             ┆             │\n",
       "│              ┆              ┆              ┆             ┆   ┆             ┆ JESUS MA…   ┆             ┆             │\n",
       "│ URBANO       ┆ N            ┆ A            ┆ TÉCNICO/ACA ┆ … ┆ OFICIAL     ┆ INSTITUCION ┆ ANTONIO     ┆ S           │\n",
       "│              ┆              ┆              ┆ DÉMICO      ┆   ┆             ┆ EDUCATIVA   ┆ NARIÑO      ┆             │\n",
       "│              ┆              ┆              ┆             ┆   ┆             ┆ ANTONIO …   ┆             ┆             │\n",
       "│ URBANO       ┆ N            ┆ A            ┆ TÉCNICO     ┆ … ┆ OFICIAL     ┆ CRISTO REY  ┆ SEDE CRISTO ┆ S           │\n",
       "│              ┆              ┆              ┆             ┆   ┆             ┆             ┆ REY         ┆             │\n",
       "└──────────────┴──────────────┴──────────────┴─────────────┴───┴─────────────┴─────────────┴─────────────┴─────────────┘"
      ]
     },
     "execution_count": 7,
     "metadata": {},
     "output_type": "execute_result"
    }
   ],
   "source": [
    "# Columnas colegio\n",
    "columnas_cole = [col for col in df_h.columns if col.startswith(prefjs[0])]\n",
    "df_h.select(columnas_cole).head()"
   ]
  },
  {
   "cell_type": "code",
   "execution_count": 8,
   "id": "0e65e739-89f8-4f1f-b37c-e70191d20fa6",
   "metadata": {},
   "outputs": [
    {
     "data": {
      "text/html": [
       "<div><style>\n",
       ".dataframe > thead > tr,\n",
       ".dataframe > tbody > tr {\n",
       "  text-align: right;\n",
       "  white-space: pre-wrap;\n",
       "}\n",
       "</style>\n",
       "<small>shape: (5, 17)</small><table border=\"1\" class=\"dataframe\"><thead><tr><th>estu_tipodocumento</th><th>estu_consecutivo</th><th>estu_cod_depto_presentacion</th><th>estu_cod_mcpio_presentacion</th><th>estu_cod_reside_depto</th><th>estu_cod_reside_mcpio</th><th>estu_depto_presentacion</th><th>estu_depto_reside</th><th>estu_estadoinvestigacion</th><th>estu_estudiante</th><th>estu_fechanacimiento</th><th>estu_genero</th><th>estu_mcpio_presentacion</th><th>estu_mcpio_reside</th><th>estu_nacionalidad</th><th>estu_pais_reside</th><th>estu_privado_libertad</th></tr><tr><td>str</td><td>str</td><td>i64</td><td>i64</td><td>i64</td><td>i64</td><td>str</td><td>str</td><td>str</td><td>str</td><td>str</td><td>str</td><td>str</td><td>str</td><td>str</td><td>str</td><td>str</td></tr></thead><tbody><tr><td>&quot;CR&quot;</td><td>&quot;SB11201310000414&quot;</td><td>11</td><td>11001</td><td>11</td><td>11001</td><td>&quot;BOGOTÁ&quot;</td><td>&quot;BOGOTÁ&quot;</td><td>&quot;PUBLICAR&quot;</td><td>&quot;ESTUDIANTE&quot;</td><td>&quot;08/08/1994&quot;</td><td>&quot;F&quot;</td><td>&quot;BOGOTÁ D.C.&quot;</td><td>&quot;BOGOTÁ D.C.&quot;</td><td>&quot;COLOMBIA&quot;</td><td>&quot;COLOMBIA&quot;</td><td>&quot;N&quot;</td></tr><tr><td>&quot;TI&quot;</td><td>&quot;SB11201940464873&quot;</td><td>41</td><td>41016</td><td>41</td><td>41016</td><td>&quot;HUILA&quot;</td><td>&quot;HUILA&quot;</td><td>&quot;PUBLICAR&quot;</td><td>&quot;ESTUDIANTE&quot;</td><td>&quot;15/02/2003&quot;</td><td>&quot;F&quot;</td><td>&quot;AIPE&quot;</td><td>&quot;AIPE&quot;</td><td>&quot;COLOMBIA&quot;</td><td>&quot;COLOMBIA&quot;</td><td>&quot;N&quot;</td></tr><tr><td>&quot;TI&quot;</td><td>&quot;SB11201940464873&quot;</td><td>41</td><td>41016</td><td>41</td><td>41016</td><td>&quot;HUILA&quot;</td><td>&quot;HUILA&quot;</td><td>&quot;PUBLICAR&quot;</td><td>&quot;ESTUDIANTE&quot;</td><td>&quot;15/02/2003&quot;</td><td>&quot;F&quot;</td><td>&quot;AIPE&quot;</td><td>&quot;AIPE&quot;</td><td>&quot;COLOMBIA&quot;</td><td>&quot;COLOMBIA&quot;</td><td>&quot;N&quot;</td></tr><tr><td>&quot;TI&quot;</td><td>&quot;SB11201220204399&quot;</td><td>63</td><td>63130</td><td>63</td><td>63130</td><td>&quot;QUINDIO&quot;</td><td>&quot;QUINDIO&quot;</td><td>&quot;PUBLICAR&quot;</td><td>&quot;ESTUDIANTE&quot;</td><td>&quot;20/05/1996&quot;</td><td>&quot;F&quot;</td><td>&quot;CALARCÁ&quot;</td><td>&quot;CALARCÁ&quot;</td><td>&quot;COLOMBIA&quot;</td><td>&quot;COLOMBIA&quot;</td><td>&quot;N&quot;</td></tr><tr><td>&quot;TI&quot;</td><td>&quot;SB11201320464198&quot;</td><td>19</td><td>19001</td><td>19</td><td>19001</td><td>&quot;CAUCA&quot;</td><td>&quot;CAUCA&quot;</td><td>&quot;PUBLICAR&quot;</td><td>&quot;ESTUDIANTE&quot;</td><td>&quot;19/03/1997&quot;</td><td>&quot;F&quot;</td><td>&quot;POPAYÁN&quot;</td><td>&quot;POPAYÁN&quot;</td><td>&quot;COLOMBIA&quot;</td><td>&quot;COLOMBIA&quot;</td><td>&quot;N&quot;</td></tr></tbody></table></div>"
      ],
      "text/plain": [
       "shape: (5, 17)\n",
       "┌──────────────┬──────────────┬──────────────┬─────────────┬───┬─────────────┬─────────────┬─────────────┬─────────────┐\n",
       "│ estu_tipodoc ┆ estu_consecu ┆ estu_cod_dep ┆ estu_cod_mc ┆ … ┆ estu_mcpio_ ┆ estu_nacion ┆ estu_pais_r ┆ estu_privad │\n",
       "│ umento       ┆ tivo         ┆ to_presentac ┆ pio_present ┆   ┆ reside      ┆ alidad      ┆ eside       ┆ o_libertad  │\n",
       "│ ---          ┆ ---          ┆ ion          ┆ acion       ┆   ┆ ---         ┆ ---         ┆ ---         ┆ ---         │\n",
       "│ str          ┆ str          ┆ ---          ┆ ---         ┆   ┆ str         ┆ str         ┆ str         ┆ str         │\n",
       "│              ┆              ┆ i64          ┆ i64         ┆   ┆             ┆             ┆             ┆             │\n",
       "╞══════════════╪══════════════╪══════════════╪═════════════╪═══╪═════════════╪═════════════╪═════════════╪═════════════╡\n",
       "│ CR           ┆ SB1120131000 ┆ 11           ┆ 11001       ┆ … ┆ BOGOTÁ D.C. ┆ COLOMBIA    ┆ COLOMBIA    ┆ N           │\n",
       "│              ┆ 0414         ┆              ┆             ┆   ┆             ┆             ┆             ┆             │\n",
       "│ TI           ┆ SB1120194046 ┆ 41           ┆ 41016       ┆ … ┆ AIPE        ┆ COLOMBIA    ┆ COLOMBIA    ┆ N           │\n",
       "│              ┆ 4873         ┆              ┆             ┆   ┆             ┆             ┆             ┆             │\n",
       "│ TI           ┆ SB1120194046 ┆ 41           ┆ 41016       ┆ … ┆ AIPE        ┆ COLOMBIA    ┆ COLOMBIA    ┆ N           │\n",
       "│              ┆ 4873         ┆              ┆             ┆   ┆             ┆             ┆             ┆             │\n",
       "│ TI           ┆ SB1120122020 ┆ 63           ┆ 63130       ┆ … ┆ CALARCÁ     ┆ COLOMBIA    ┆ COLOMBIA    ┆ N           │\n",
       "│              ┆ 4399         ┆              ┆             ┆   ┆             ┆             ┆             ┆             │\n",
       "│ TI           ┆ SB1120132046 ┆ 19           ┆ 19001       ┆ … ┆ POPAYÁN     ┆ COLOMBIA    ┆ COLOMBIA    ┆ N           │\n",
       "│              ┆ 4198         ┆              ┆             ┆   ┆             ┆             ┆             ┆             │\n",
       "└──────────────┴──────────────┴──────────────┴─────────────┴───┴─────────────┴─────────────┴─────────────┴─────────────┘"
      ]
     },
     "execution_count": 8,
     "metadata": {},
     "output_type": "execute_result"
    }
   ],
   "source": [
    "# Columnas estudiante\n",
    "columnas_estu = [col for col in df_h.columns if col.startswith(prefjs[1])]\n",
    "df_h.select(columnas_estu).head()"
   ]
  },
  {
   "cell_type": "code",
   "execution_count": 9,
   "id": "6f01f108-2090-4839-ba38-4579b90672a9",
   "metadata": {},
   "outputs": [
    {
     "data": {
      "text/html": [
       "<div><style>\n",
       ".dataframe > thead > tr,\n",
       ".dataframe > tbody > tr {\n",
       "  text-align: right;\n",
       "  white-space: pre-wrap;\n",
       "}\n",
       "</style>\n",
       "<small>shape: (5, 9)</small><table border=\"1\" class=\"dataframe\"><thead><tr><th>fami_cuartoshogar</th><th>fami_educacionmadre</th><th>fami_educacionpadre</th><th>fami_estratovivienda</th><th>fami_personashogar</th><th>fami_tieneautomovil</th><th>fami_tienecomputador</th><th>fami_tieneinternet</th><th>fami_tienelavadora</th></tr><tr><td>str</td><td>str</td><td>str</td><td>str</td><td>str</td><td>str</td><td>str</td><td>str</td><td>str</td></tr></thead><tbody><tr><td>&quot;Cuatro&quot;</td><td>&quot;Educación profesional completa&quot;</td><td>&quot;Educación profesional completa&quot;</td><td>&quot;Estrato 6&quot;</td><td>&quot;Cuatro&quot;</td><td>&quot;Si&quot;</td><td>&quot;Si&quot;</td><td>&quot;Si&quot;</td><td>&quot;Si&quot;</td></tr><tr><td>&quot;Dos&quot;</td><td>&quot;Postgrado&quot;</td><td>&quot;Primaria completa&quot;</td><td>&quot;Estrato 2&quot;</td><td>&quot;1 a 2&quot;</td><td>&quot;No&quot;</td><td>&quot;Si&quot;</td><td>&quot;Si&quot;</td><td>&quot;Si&quot;</td></tr><tr><td>&quot;Dos&quot;</td><td>&quot;Postgrado&quot;</td><td>&quot;Primaria completa&quot;</td><td>&quot;Estrato 2&quot;</td><td>&quot;1 a 2&quot;</td><td>&quot;No&quot;</td><td>&quot;Si&quot;</td><td>&quot;Si&quot;</td><td>&quot;Si&quot;</td></tr><tr><td>&quot;Dos&quot;</td><td>&quot;Secundaria (Bachillerato) inco…</td><td>&quot;No sabe&quot;</td><td>&quot;Estrato 1&quot;</td><td>&quot;Cuatro&quot;</td><td>&quot;No&quot;</td><td>&quot;Si&quot;</td><td>&quot;Si&quot;</td><td>&quot;No&quot;</td></tr><tr><td>&quot;Cinco&quot;</td><td>&quot;Educación profesional completa&quot;</td><td>&quot;Educación profesional incomple…</td><td>&quot;Estrato 2&quot;</td><td>&quot;Ocho&quot;</td><td>&quot;No&quot;</td><td>&quot;Si&quot;</td><td>&quot;Si&quot;</td><td>&quot;Si&quot;</td></tr></tbody></table></div>"
      ],
      "text/plain": [
       "shape: (5, 9)\n",
       "┌──────────────┬──────────────┬──────────────┬─────────────┬───┬─────────────┬─────────────┬─────────────┬─────────────┐\n",
       "│ fami_cuartos ┆ fami_educaci ┆ fami_educaci ┆ fami_estrat ┆ … ┆ fami_tienea ┆ fami_tienec ┆ fami_tienei ┆ fami_tienel │\n",
       "│ hogar        ┆ onmadre      ┆ onpadre      ┆ ovivienda   ┆   ┆ utomovil    ┆ omputador   ┆ nternet     ┆ avadora     │\n",
       "│ ---          ┆ ---          ┆ ---          ┆ ---         ┆   ┆ ---         ┆ ---         ┆ ---         ┆ ---         │\n",
       "│ str          ┆ str          ┆ str          ┆ str         ┆   ┆ str         ┆ str         ┆ str         ┆ str         │\n",
       "╞══════════════╪══════════════╪══════════════╪═════════════╪═══╪═════════════╪═════════════╪═════════════╪═════════════╡\n",
       "│ Cuatro       ┆ Educación    ┆ Educación    ┆ Estrato 6   ┆ … ┆ Si          ┆ Si          ┆ Si          ┆ Si          │\n",
       "│              ┆ profesional  ┆ profesional  ┆             ┆   ┆             ┆             ┆             ┆             │\n",
       "│              ┆ completa     ┆ completa     ┆             ┆   ┆             ┆             ┆             ┆             │\n",
       "│ Dos          ┆ Postgrado    ┆ Primaria     ┆ Estrato 2   ┆ … ┆ No          ┆ Si          ┆ Si          ┆ Si          │\n",
       "│              ┆              ┆ completa     ┆             ┆   ┆             ┆             ┆             ┆             │\n",
       "│ Dos          ┆ Postgrado    ┆ Primaria     ┆ Estrato 2   ┆ … ┆ No          ┆ Si          ┆ Si          ┆ Si          │\n",
       "│              ┆              ┆ completa     ┆             ┆   ┆             ┆             ┆             ┆             │\n",
       "│ Dos          ┆ Secundaria   ┆ No sabe      ┆ Estrato 1   ┆ … ┆ No          ┆ Si          ┆ Si          ┆ No          │\n",
       "│              ┆ (Bachillerat ┆              ┆             ┆   ┆             ┆             ┆             ┆             │\n",
       "│              ┆ o) inco…     ┆              ┆             ┆   ┆             ┆             ┆             ┆             │\n",
       "│ Cinco        ┆ Educación    ┆ Educación    ┆ Estrato 2   ┆ … ┆ No          ┆ Si          ┆ Si          ┆ Si          │\n",
       "│              ┆ profesional  ┆ profesional  ┆             ┆   ┆             ┆             ┆             ┆             │\n",
       "│              ┆ completa     ┆ incomple…    ┆             ┆   ┆             ┆             ┆             ┆             │\n",
       "└──────────────┴──────────────┴──────────────┴─────────────┴───┴─────────────┴─────────────┴─────────────┴─────────────┘"
      ]
     },
     "execution_count": 9,
     "metadata": {},
     "output_type": "execute_result"
    }
   ],
   "source": [
    "# Columnas familia\n",
    "columnas_fami = [col for col in df_h.columns if col.startswith(prefjs[2])]\n",
    "df_h.select(columnas_fami).head()"
   ]
  },
  {
   "cell_type": "code",
   "execution_count": 10,
   "id": "66b039ff-2371-4293-961a-b9a8faa08d7f",
   "metadata": {},
   "outputs": [
    {
     "data": {
      "text/html": [
       "<div><style>\n",
       ".dataframe > thead > tr,\n",
       ".dataframe > tbody > tr {\n",
       "  text-align: right;\n",
       "  white-space: pre-wrap;\n",
       "}\n",
       "</style>\n",
       "<small>shape: (5, 6)</small><table border=\"1\" class=\"dataframe\"><thead><tr><th>punt_ingles</th><th>punt_matematicas</th><th>punt_sociales_ciudadanas</th><th>punt_c_naturales</th><th>punt_lectura_critica</th><th>punt_global</th></tr><tr><td>str</td><td>str</td><td>i64</td><td>i64</td><td>i64</td><td>i64</td></tr></thead><tbody><tr><td>&quot;94&quot;</td><td>&quot;88&quot;</td><td>null</td><td>null</td><td>null</td><td>null</td></tr><tr><td>&quot;71&quot;</td><td>&quot;66&quot;</td><td>70</td><td>65</td><td>69</td><td>339</td></tr><tr><td>&quot;71&quot;</td><td>&quot;66&quot;</td><td>70</td><td>65</td><td>69</td><td>339</td></tr><tr><td>&quot;48&quot;</td><td>&quot;45&quot;</td><td>null</td><td>null</td><td>null</td><td>null</td></tr><tr><td>&quot;43&quot;</td><td>&quot;52&quot;</td><td>null</td><td>null</td><td>null</td><td>null</td></tr></tbody></table></div>"
      ],
      "text/plain": [
       "shape: (5, 6)\n",
       "┌─────────────┬──────────────────┬──────────────────────────┬──────────────────┬──────────────────────┬─────────────┐\n",
       "│ punt_ingles ┆ punt_matematicas ┆ punt_sociales_ciudadanas ┆ punt_c_naturales ┆ punt_lectura_critica ┆ punt_global │\n",
       "│ ---         ┆ ---              ┆ ---                      ┆ ---              ┆ ---                  ┆ ---         │\n",
       "│ str         ┆ str              ┆ i64                      ┆ i64              ┆ i64                  ┆ i64         │\n",
       "╞═════════════╪══════════════════╪══════════════════════════╪══════════════════╪══════════════════════╪═════════════╡\n",
       "│ 94          ┆ 88               ┆ null                     ┆ null             ┆ null                 ┆ null        │\n",
       "│ 71          ┆ 66               ┆ 70                       ┆ 65               ┆ 69                   ┆ 339         │\n",
       "│ 71          ┆ 66               ┆ 70                       ┆ 65               ┆ 69                   ┆ 339         │\n",
       "│ 48          ┆ 45               ┆ null                     ┆ null             ┆ null                 ┆ null        │\n",
       "│ 43          ┆ 52               ┆ null                     ┆ null             ┆ null                 ┆ null        │\n",
       "└─────────────┴──────────────────┴──────────────────────────┴──────────────────┴──────────────────────┴─────────────┘"
      ]
     },
     "execution_count": 10,
     "metadata": {},
     "output_type": "execute_result"
    }
   ],
   "source": [
    "# Columnas puntaje\n",
    "columnas_punt = [col for col in df_h.columns if col.startswith(prefjs[3])]\n",
    "df_h.select(columnas_punt).head()"
   ]
  },
  {
   "cell_type": "code",
   "execution_count": 11,
   "id": "126513a6-76eb-4164-9670-4accf8315a77",
   "metadata": {},
   "outputs": [
    {
     "data": {
      "text/html": [
       "<div><style>\n",
       ".dataframe > thead > tr,\n",
       ".dataframe > tbody > tr {\n",
       "  text-align: right;\n",
       "  white-space: pre-wrap;\n",
       "}\n",
       "</style>\n",
       "<small>shape: (23, 2)</small><table border=\"1\" class=\"dataframe\"><thead><tr><th>periodo</th><th>len</th></tr><tr><td>i64</td><td>u32</td></tr></thead><tbody><tr><td>20161</td><td>13095</td></tr><tr><td>20121</td><td>38432</td></tr><tr><td>20171</td><td>13018</td></tr><tr><td>20142</td><td>546727</td></tr><tr><td>20101</td><td>41656</td></tr><tr><td>&hellip;</td><td>&hellip;</td></tr><tr><td>20162</td><td>550275</td></tr><tr><td>20102</td><td>628374</td></tr><tr><td>20151</td><td>25973</td></tr><tr><td>20122</td><td>641956</td></tr><tr><td>20131</td><td>35179</td></tr></tbody></table></div>"
      ],
      "text/plain": [
       "shape: (23, 2)\n",
       "┌─────────┬────────┐\n",
       "│ periodo ┆ len    │\n",
       "│ ---     ┆ ---    │\n",
       "│ i64     ┆ u32    │\n",
       "╞═════════╪════════╡\n",
       "│ 20161   ┆ 13095  │\n",
       "│ 20121   ┆ 38432  │\n",
       "│ 20171   ┆ 13018  │\n",
       "│ 20142   ┆ 546727 │\n",
       "│ 20101   ┆ 41656  │\n",
       "│ …       ┆ …      │\n",
       "│ 20162   ┆ 550275 │\n",
       "│ 20102   ┆ 628374 │\n",
       "│ 20151   ┆ 25973  │\n",
       "│ 20122   ┆ 641956 │\n",
       "│ 20131   ┆ 35179  │\n",
       "└─────────┴────────┘"
      ]
     },
     "execution_count": 11,
     "metadata": {},
     "output_type": "execute_result"
    }
   ],
   "source": [
    "# Conteo observaciones por periodo\n",
    "df_h.group_by(\"periodo\").len()"
   ]
  },
  {
   "cell_type": "code",
   "execution_count": 12,
   "id": "e1faab2c-e231-4477-859c-01b3739d6627",
   "metadata": {},
   "outputs": [
    {
     "data": {
      "text/plain": [
       "(1670372, 51)"
      ]
     },
     "execution_count": 12,
     "metadata": {},
     "output_type": "execute_result"
    }
   ],
   "source": [
    "# filter periods\n",
    "df_h = df_h.filter(df_h[\"periodo\"].is_in([20171, 20172, 20191, 20194]))\n",
    "\n",
    "df_h.shape"
   ]
  },
  {
   "cell_type": "code",
   "execution_count": 13,
   "id": "663df49b-d2dd-40a1-92bb-036d835248ee",
   "metadata": {},
   "outputs": [],
   "source": [
    "# sample 500.000 records\n",
    "df_h = df_h.sample(n = 500000, seed = 2025)"
   ]
  },
  {
   "cell_type": "code",
   "execution_count": 14,
   "id": "f52f7163-f8e0-4d07-9e69-d238d5bcac16",
   "metadata": {},
   "outputs": [],
   "source": [
    "#clean data type\n",
    "df_h = df_h.with_columns(\n",
    "    pl.col(\"punt_matematicas\").cast(pl.Float64),\n",
    "    pl.col(\"punt_ingles\").cast(pl.Float64)\n",
    ")"
   ]
  },
  {
   "cell_type": "code",
   "execution_count": 15,
   "id": "a77e328e-33f6-4acc-81d7-5f58f4a13fcf",
   "metadata": {},
   "outputs": [
    {
     "data": {
      "text/html": [
       "<div><style>\n",
       ".dataframe > thead > tr,\n",
       ".dataframe > tbody > tr {\n",
       "  text-align: right;\n",
       "  white-space: pre-wrap;\n",
       "}\n",
       "</style>\n",
       "<small>shape: (51, 2)</small><table border=\"1\" class=\"dataframe\"><thead><tr><th>col_name</th><th>var_type</th></tr><tr><td>str</td><td>object</td></tr></thead><tbody><tr><td>&quot;periodo&quot;</td><td>Int64</td></tr><tr><td>&quot;estu_tipodocumento&quot;</td><td>String</td></tr><tr><td>&quot;estu_consecutivo&quot;</td><td>String</td></tr><tr><td>&quot;cole_area_ubicacion&quot;</td><td>String</td></tr><tr><td>&quot;cole_bilingue&quot;</td><td>String</td></tr><tr><td>&hellip;</td><td>&hellip;</td></tr><tr><td>&quot;punt_matematicas&quot;</td><td>Float64</td></tr><tr><td>&quot;punt_sociales_ciudadanas&quot;</td><td>Int64</td></tr><tr><td>&quot;punt_c_naturales&quot;</td><td>Int64</td></tr><tr><td>&quot;punt_lectura_critica&quot;</td><td>Int64</td></tr><tr><td>&quot;punt_global&quot;</td><td>Int64</td></tr></tbody></table></div>"
      ],
      "text/plain": [
       "shape: (51, 2)\n",
       "┌──────────────────────────┬──────────┐\n",
       "│ col_name                 ┆ var_type │\n",
       "│ ---                      ┆ ---      │\n",
       "│ str                      ┆ object   │\n",
       "╞══════════════════════════╪══════════╡\n",
       "│ periodo                  ┆ Int64    │\n",
       "│ estu_tipodocumento       ┆ String   │\n",
       "│ estu_consecutivo         ┆ String   │\n",
       "│ cole_area_ubicacion      ┆ String   │\n",
       "│ cole_bilingue            ┆ String   │\n",
       "│ …                        ┆ …        │\n",
       "│ punt_matematicas         ┆ Float64  │\n",
       "│ punt_sociales_ciudadanas ┆ Int64    │\n",
       "│ punt_c_naturales         ┆ Int64    │\n",
       "│ punt_lectura_critica     ┆ Int64    │\n",
       "│ punt_global              ┆ Int64    │\n",
       "└──────────────────────────┴──────────┘"
      ]
     },
     "execution_count": 15,
     "metadata": {},
     "output_type": "execute_result"
    }
   ],
   "source": [
    "# print data type\n",
    "data_type(df_h)"
   ]
  },
  {
   "cell_type": "code",
   "execution_count": 16,
   "id": "0af16622-5516-45ca-8d27-46024416f1dd",
   "metadata": {},
   "outputs": [
    {
     "data": {
      "text/html": [
       "<div><style>\n",
       ".dataframe > thead > tr,\n",
       ".dataframe > tbody > tr {\n",
       "  text-align: right;\n",
       "  white-space: pre-wrap;\n",
       "}\n",
       "</style>\n",
       "<small>shape: (9, 7)</small><table border=\"1\" class=\"dataframe\"><thead><tr><th>statistic</th><th>punt_ingles</th><th>punt_matematicas</th><th>punt_sociales_ciudadanas</th><th>punt_c_naturales</th><th>punt_lectura_critica</th><th>punt_global</th></tr><tr><td>str</td><td>f64</td><td>f64</td><td>f64</td><td>f64</td><td>f64</td><td>f64</td></tr></thead><tbody><tr><td>&quot;count&quot;</td><td>499988.0</td><td>500000.0</td><td>500000.0</td><td>500000.0</td><td>500000.0</td><td>500000.0</td></tr><tr><td>&quot;null_count&quot;</td><td>12.0</td><td>0.0</td><td>0.0</td><td>0.0</td><td>0.0</td><td>0.0</td></tr><tr><td>&quot;mean&quot;</td><td>49.09884</td><td>50.608844</td><td>47.75663</td><td>49.40955</td><td>52.659148</td><td>250.154332</td></tr><tr><td>&quot;std&quot;</td><td>12.55179</td><td>12.11872</td><td>12.086802</td><td>10.745406</td><td>10.375504</td><td>51.290681</td></tr><tr><td>&quot;min&quot;</td><td>0.0</td><td>0.0</td><td>0.0</td><td>0.0</td><td>0.0</td><td>0.0</td></tr><tr><td>&quot;25%&quot;</td><td>40.0</td><td>42.0</td><td>38.0</td><td>41.0</td><td>45.0</td><td>211.0</td></tr><tr><td>&quot;50%&quot;</td><td>48.0</td><td>51.0</td><td>47.0</td><td>49.0</td><td>53.0</td><td>247.0</td></tr><tr><td>&quot;75%&quot;</td><td>57.0</td><td>59.0</td><td>57.0</td><td>57.0</td><td>60.0</td><td>286.0</td></tr><tr><td>&quot;max&quot;</td><td>100.0</td><td>100.0</td><td>100.0</td><td>100.0</td><td>100.0</td><td>476.0</td></tr></tbody></table></div>"
      ],
      "text/plain": [
       "shape: (9, 7)\n",
       "┌────────────┬─────────────┬──────────────────┬───────────────────┬──────────────────┬───────────────────┬─────────────┐\n",
       "│ statistic  ┆ punt_ingles ┆ punt_matematicas ┆ punt_sociales_ciu ┆ punt_c_naturales ┆ punt_lectura_crit ┆ punt_global │\n",
       "│ ---        ┆ ---         ┆ ---              ┆ dadanas           ┆ ---              ┆ ica               ┆ ---         │\n",
       "│ str        ┆ f64         ┆ f64              ┆ ---               ┆ f64              ┆ ---               ┆ f64         │\n",
       "│            ┆             ┆                  ┆ f64               ┆                  ┆ f64               ┆             │\n",
       "╞════════════╪═════════════╪══════════════════╪═══════════════════╪══════════════════╪═══════════════════╪═════════════╡\n",
       "│ count      ┆ 499988.0    ┆ 500000.0         ┆ 500000.0          ┆ 500000.0         ┆ 500000.0          ┆ 500000.0    │\n",
       "│ null_count ┆ 12.0        ┆ 0.0              ┆ 0.0               ┆ 0.0              ┆ 0.0               ┆ 0.0         │\n",
       "│ mean       ┆ 49.09884    ┆ 50.608844        ┆ 47.75663          ┆ 49.40955         ┆ 52.659148         ┆ 250.154332  │\n",
       "│ std        ┆ 12.55179    ┆ 12.11872         ┆ 12.086802         ┆ 10.745406        ┆ 10.375504         ┆ 51.290681   │\n",
       "│ min        ┆ 0.0         ┆ 0.0              ┆ 0.0               ┆ 0.0              ┆ 0.0               ┆ 0.0         │\n",
       "│ 25%        ┆ 40.0        ┆ 42.0             ┆ 38.0              ┆ 41.0             ┆ 45.0              ┆ 211.0       │\n",
       "│ 50%        ┆ 48.0        ┆ 51.0             ┆ 47.0              ┆ 49.0             ┆ 53.0              ┆ 247.0       │\n",
       "│ 75%        ┆ 57.0        ┆ 59.0             ┆ 57.0              ┆ 57.0             ┆ 60.0              ┆ 286.0       │\n",
       "│ max        ┆ 100.0       ┆ 100.0            ┆ 100.0             ┆ 100.0            ┆ 100.0             ┆ 476.0       │\n",
       "└────────────┴─────────────┴──────────────────┴───────────────────┴──────────────────┴───────────────────┴─────────────┘"
      ]
     },
     "execution_count": 16,
     "metadata": {},
     "output_type": "execute_result"
    }
   ],
   "source": [
    "cols_punt = [col for col in df_h.columns if col.startswith(\"punt_\")]\n",
    "\n",
    "df_h.select(cols_punt).describe()"
   ]
  },
  {
   "cell_type": "code",
   "execution_count": 17,
   "id": "ab798791-b6fa-460b-9b65-ada66c2febf4",
   "metadata": {},
   "outputs": [],
   "source": [
    "# Arbitrary select vars\n",
    "df_h = df_h.select([\"estu_genero\", \"cole_calendario\", \"fami_educacionmadre\", \"fami_educacionpadre\",\n",
    "                    \"fami_estratovivienda\", \"fami_tienecomputador\", \"cole_area_ubicacion\", \"fami_tieneinternet\", \"punt_global\"])"
   ]
  },
  {
   "cell_type": "code",
   "execution_count": 18,
   "id": "29963167-bdb9-485b-b50e-9251b6838ab0",
   "metadata": {},
   "outputs": [
    {
     "data": {
      "text/html": [
       "<div><style>\n",
       ".dataframe > thead > tr,\n",
       ".dataframe > tbody > tr {\n",
       "  text-align: right;\n",
       "  white-space: pre-wrap;\n",
       "}\n",
       "</style>\n",
       "<small>shape: (9, 3)</small><table border=\"1\" class=\"dataframe\"><thead><tr><th>col_name</th><th>missing_values</th><th>propotion_missing_values</th></tr><tr><td>str</td><td>i64</td><td>f64</td></tr></thead><tbody><tr><td>&quot;fami_estratovivienda&quot;</td><td>29308</td><td>5.9</td></tr><tr><td>&quot;fami_tieneinternet&quot;</td><td>26468</td><td>5.3</td></tr><tr><td>&quot;fami_educacionpadre&quot;</td><td>25887</td><td>5.2</td></tr><tr><td>&quot;fami_educacionmadre&quot;</td><td>25831</td><td>5.2</td></tr><tr><td>&quot;fami_tienecomputador&quot;</td><td>13156</td><td>2.6</td></tr><tr><td>&quot;estu_genero&quot;</td><td>78</td><td>0.0</td></tr><tr><td>&quot;cole_calendario&quot;</td><td>0</td><td>0.0</td></tr><tr><td>&quot;cole_area_ubicacion&quot;</td><td>0</td><td>0.0</td></tr><tr><td>&quot;punt_global&quot;</td><td>0</td><td>0.0</td></tr></tbody></table></div>"
      ],
      "text/plain": [
       "shape: (9, 3)\n",
       "┌──────────────────────┬────────────────┬──────────────────────────┐\n",
       "│ col_name             ┆ missing_values ┆ propotion_missing_values │\n",
       "│ ---                  ┆ ---            ┆ ---                      │\n",
       "│ str                  ┆ i64            ┆ f64                      │\n",
       "╞══════════════════════╪════════════════╪══════════════════════════╡\n",
       "│ fami_estratovivienda ┆ 29308          ┆ 5.9                      │\n",
       "│ fami_tieneinternet   ┆ 26468          ┆ 5.3                      │\n",
       "│ fami_educacionpadre  ┆ 25887          ┆ 5.2                      │\n",
       "│ fami_educacionmadre  ┆ 25831          ┆ 5.2                      │\n",
       "│ fami_tienecomputador ┆ 13156          ┆ 2.6                      │\n",
       "│ estu_genero          ┆ 78             ┆ 0.0                      │\n",
       "│ cole_calendario      ┆ 0              ┆ 0.0                      │\n",
       "│ cole_area_ubicacion  ┆ 0              ┆ 0.0                      │\n",
       "│ punt_global          ┆ 0              ┆ 0.0                      │\n",
       "└──────────────────────┴────────────────┴──────────────────────────┘"
      ]
     },
     "execution_count": 18,
     "metadata": {},
     "output_type": "execute_result"
    }
   ],
   "source": [
    "# Conteo de la cantidad de valores perdidos y su proporción por columna\n",
    "pl.DataFrame(\n",
    "    {\n",
    "        \"col_name\": df_h.columns,\n",
    "        \"missing_values\": [df_h[col].null_count() for col in df_h.columns],\n",
    "        \"propotion_missing_values\": [round((df_h[col].null_count() / df_h.shape[0]), 3) * 100 for col in df_h.columns]\n",
    "    }\n",
    ") \\\n",
    ".sort(\"missing_values\", descending = True)"
   ]
  },
  {
   "cell_type": "code",
   "execution_count": 19,
   "id": "45c513d8-aaac-4d1c-aac9-41ca1c1592fc",
   "metadata": {},
   "outputs": [
    {
     "data": {
      "image/png": "[encoded data removed]",
      "text/plain": [
       "<Figure size 1000x600 with 1 Axes>"
      ]
     },
     "metadata": {},
     "output_type": "display_data"
    }
   ],
   "source": [
    "plot_null_vals(df_h)"
   ]
  },
  {
   "cell_type": "code",
   "execution_count": 22,
   "id": "2c16bc57-7a34-4246-8f5f-1f355ebae4e9",
   "metadata": {},
   "outputs": [],
   "source": [
    "def imputar_moda(df):\n",
    "    \n",
    "    for col in df.columns:\n",
    "        mode_col = df[col].drop_nulls().mode().item()\n",
    "        print(mode_col)\n",
    "        for i in range(0, df.shape[0]):\n",
    "            if df[col][i] is None:\n",
    "                df[col][i] = mode_col\n",
    "    return df"
   ]
  },
  {
   "cell_type": "code",
   "execution_count": 21,
   "id": "5cfe3824-541c-4c03-b478-46bca1b4ce3c",
   "metadata": {},
   "outputs": [
    {
     "ename": "AssertionError",
     "evalue": "",
     "output_type": "error",
     "traceback": [
      "\u001b[1;31m---------------------------------------------------------------------------\u001b[0m",
      "\u001b[1;31mAssertionError\u001b[0m                            Traceback (most recent call last)",
      "Cell \u001b[1;32mIn[21], line 1\u001b[0m\n\u001b[1;32m----> 1\u001b[0m \u001b[38;5;28;01massert\u001b[39;00m \u001b[38;5;241m2\u001b[39m \u001b[38;5;241m==\u001b[39m \u001b[38;5;241m3\u001b[39m\n",
      "\u001b[1;31mAssertionError\u001b[0m: "
     ]
    }
   ],
   "source": [
    "assert 2 == 3"
   ]
  },
  {
   "cell_type": "code",
   "execution_count": null,
   "id": "61a44b70-9e54-4ca8-8c2e-0a16f2a9282d",
   "metadata": {},
   "outputs": [
    {
     "name": "stdout",
     "output_type": "stream",
     "text": [
      "F\n",
      "A\n",
      "Secundaria (Bachillerato) completa\n"
     ]
    }
   ],
   "source": [
    "prueba_4 = imputar_moda(df_h)\n",
    "\n",
    "prueba_4.head()"
   ]
  },
  {
   "cell_type": "code",
   "execution_count": null,
   "id": "5c02f008-104a-4692-af8a-ac4c4ab368b0",
   "metadata": {},
   "outputs": [],
   "source": [
    "df_h[\"fami_educacionpadre\"].is_null()"
   ]
  },
  {
   "cell_type": "code",
   "execution_count": null,
   "id": "1e9552ba-44ac-4b63-89d2-b78ec993d194",
   "metadata": {},
   "outputs": [],
   "source": []
  },
  {
   "cell_type": "code",
   "execution_count": null,
   "id": "ad9c7108-58da-40c2-858e-9ad0db60125e",
   "metadata": {},
   "outputs": [],
   "source": [
    "# verfy delete null values\n",
    "plot_null_vals(prueba_4)"
   ]
  },
  {
   "cell_type": "code",
   "execution_count": null,
   "id": "fd48f69a-6945-4def-9793-ef8cd91910f7",
   "metadata": {},
   "outputs": [],
   "source": [
    "print(\"Luego de la selección arbitraria de variables y de la eliminación de datos perdidos, se observa un total de \" + str(df_h.shape[0]) +\n",
    "      \" filas y \" + str(df_h.shape[1]) + \" columnas\")"
   ]
  },
  {
   "cell_type": "code",
   "execution_count": null,
   "id": "06f10b4c-eb95-4658-a84c-69fe917968a3",
   "metadata": {},
   "outputs": [],
   "source": [
    "# print data type\n",
    "data_type(df_h)"
   ]
  },
  {
   "cell_type": "code",
   "execution_count": null,
   "id": "4248dca5-953b-4349-a8f2-aa5e54da5130",
   "metadata": {},
   "outputs": [],
   "source": [
    "# plot count unique values\n",
    "var_names_plot = df_h.columns\n",
    "\n",
    "var_names_plot.remove(\"punt_global\")\n",
    "\n",
    "titles_plots = [\"Cantidad de estudiantes desagregado por género\", \"Cantidad de estudianes desagregado por calendarios\",\n",
    "                \"Cantidad de estudiantes desagregado por nivel educativo de la madre\",\n",
    "                \"Cantidad de estudiantes desagregado por nivel educativo del padre\",\n",
    "                \"Cantidad de estudiantes desagregados por estrato\", \"Cantidad de estudiantes que tienen o no tienen computador\",\n",
    "                \"Cantidad de estudiantes desagregado por área de ubicación\",\n",
    "                \"Cantidad de estudiantes con acceso o sin acceso a internet\"]\n",
    "\n",
    "for i in range(0, len(var_names_plot)):\n",
    "    count_val = df_h[var_names_plot[i]].value_counts()\n",
    "\n",
    "    plt.barh(count_val[var_names_plot[i]], count_val[\"count\"])\n",
    "    plt.xlabel(\"Frecuencia\")\n",
    "    plt.ylabel(var_names_plot[i])\n",
    "    plt.title(titles_plots[i])\n",
    "    plt.show()\n",
    "\n",
    "plt.boxplot(df_h[\"punt_global\"])\n",
    "plt.title(\"Distribución de los puntajes globales de los estudiantes\")\n",
    "plt.show()\n"
   ]
  },
  {
   "cell_type": "code",
   "execution_count": null,
   "id": "551d6645-3582-42da-b3ac-e421eef2cea3",
   "metadata": {},
   "outputs": [],
   "source": []
  },
  {
   "cell_type": "code",
   "execution_count": null,
   "id": "dbde4d0c-f197-42a4-b5a6-b968b307af37",
   "metadata": {},
   "outputs": [],
   "source": []
  },
  {
   "cell_type": "code",
   "execution_count": null,
   "id": "ba89dac2-38da-48f9-bafa-48400fee0915",
   "metadata": {},
   "outputs": [],
   "source": []
  },
  {
   "cell_type": "code",
   "execution_count": null,
   "id": "9349fe75-f57e-46ce-8591-b4ca825d518d",
   "metadata": {},
   "outputs": [],
   "source": []
  },
  {
   "cell_type": "code",
   "execution_count": null,
   "id": "0e95c60d-4c94-40f9-8658-bac56e9696e0",
   "metadata": {},
   "outputs": [],
   "source": []
  },
  {
   "cell_type": "code",
   "execution_count": null,
   "id": "0317a21c-1961-4b75-9868-d8f351d22599",
   "metadata": {},
   "outputs": [],
   "source": []
  },
  {
   "cell_type": "code",
   "execution_count": null,
   "id": "86964c8d-8bc3-4ec6-bc90-86968cc37711",
   "metadata": {},
   "outputs": [],
   "source": []
  },
  {
   "cell_type": "code",
   "execution_count": null,
   "id": "ac9c3e66-cf7e-4061-8e26-10ae3169845d",
   "metadata": {},
   "outputs": [],
   "source": []
  }
 ],
 "metadata": {
  "kernelspec": {
   "display_name": "Python 3 (ipykernel)",
   "language": "python",
   "name": "python3"
  },
  "language_info": {
   "codemirror_mode": {
    "name": "ipython",
    "version": 3
   },
   "file_extension": ".py",
   "mimetype": "text/x-python",
   "name": "python",
   "nbconvert_exporter": "python",
   "pygments_lexer": "ipython3",
   "version": "3.13.2"
  }
 },
 "nbformat": 4,
 "nbformat_minor": 5
}
