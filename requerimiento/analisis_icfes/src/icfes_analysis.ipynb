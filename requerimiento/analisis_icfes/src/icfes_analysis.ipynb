{
 "cells": [
  {
   "cell_type": "code",
   "execution_count": null,
   "id": "08885c7e-2405-449e-bb2f-28b1d8aa4657",
   "metadata": {},
   "outputs": [],
   "source": [
    "#import pandas as pd\n",
    "#from sodapy import Socrata\n",
    "\n",
    "#client = Socrata(\"www.datos.gov.co\", None)\n",
    "\n",
    "#df_2020_2 = pd.DataFrame(client.get(\"rnvb-vnyh\", limit=504872, offset=0))\n",
    "\n",
    "#df_2020_1 = pd.DataFrame(client.get(\"a8xr-en99\", limit=15435, offset=0))"
   ]
  },
  {
   "cell_type": "code",
   "execution_count": null,
   "id": "fcfe5b96-efe2-4abc-9bd7-3af52dec9fcf",
   "metadata": {},
   "outputs": [],
   "source": [
    "import polars as pl\n",
    "import numpy as np\n",
    "from scipy import stats\n",
    "import matplotlib.pyplot as plt"
   ]
  },
  {
   "cell_type": "code",
   "execution_count": null,
   "id": "152c80f3-72fd-4b21-84c6-0a02c48d65f0",
   "metadata": {},
   "outputs": [],
   "source": [
    "# define functions\n",
    "def lower_names(df):\n",
    "    l_names = {col: col.lower() for col in df.columns}\n",
    "    return df.rename(l_names)\n",
    "\n",
    "def plot_null_vals(df):\n",
    "    null_bool = df.select([pl.col(col).is_null() for col in df.columns])\n",
    "    \n",
    "    null_array = null_bool.to_numpy().astype(int).T\n",
    "    \n",
    "    fig, ax = plt.subplots(figsize=(10, 6))\n",
    "    \n",
    "    ax.imshow(null_array, aspect='auto', cmap='viridis', interpolation='none')\n",
    "    \n",
    "    ax.set_yticks(range(len(df.columns)))\n",
    "    ax.set_yticklabels(df.columns)\n",
    "    ax.set_xticks([])\n",
    "    plt.title('Valores nulos por columna')\n",
    "    \n",
    "    return plt.show()\n",
    "\n",
    "def data_type(df):\n",
    "    df_type = pl.DataFrame(\n",
    "        {\n",
    "            \"col_name\": df.columns,\n",
    "            \"var_type\": [df_h[col].dtype for col in df.columns]\n",
    "        }\n",
    "    )\n",
    "\n",
    "    return df_type\n",
    "\n",
    "def impute_mode(df):\n",
    "    \n",
    "    for col in df.columns:\n",
    "        n_row = df.shape[0]   \n",
    "        mode_col = df[col].drop_nulls().mode().item()\n",
    "        \n",
    "        if df[col].null_count() > 0:\n",
    "            df = df.with_columns(\n",
    "                pl.col(col).fill_null(mode_col))\n",
    "    return df"
   ]
  },
  {
   "cell_type": "code",
   "execution_count": null,
   "id": "452efbcf-2d27-4802-9f4a-e48204cd874b",
   "metadata": {},
   "outputs": [],
   "source": [
    "# load data\n",
    "df_h = pl.read_csv(\"/Users/sebas/OneDrive/Documents/repositorio_cepap/CEPAP/data_source/educacion/2025/Resultados__nicos_Saber_11_20250303.tsv\", separator=\"\\t\", decimal_comma = True)\n",
    "\n",
    "df_h.head()"
   ]
  },
  {
   "cell_type": "code",
   "execution_count": null,
   "id": "baa3898b-eab3-4cbf-a3b9-24b62e8cefaf",
   "metadata": {},
   "outputs": [],
   "source": [
    "# clean names\n",
    "df_h = lower_names(df_h)\n",
    "\n",
    "df_h.head()"
   ]
  },
  {
   "cell_type": "code",
   "execution_count": null,
   "id": "d1502021-9d62-4288-9862-505f593c8071",
   "metadata": {},
   "outputs": [],
   "source": [
    "# Explorar variables por prefijos\n",
    "prefjs = [\"cole\", \"estu_\", \"fami_\", \"punt_\"]"
   ]
  },
  {
   "cell_type": "code",
   "execution_count": null,
   "id": "12785369-78ed-4d30-b3d4-b040d75882b8",
   "metadata": {},
   "outputs": [],
   "source": [
    "# Columnas colegio\n",
    "columnas_cole = [col for col in df_h.columns if col.startswith(prefjs[0])]\n",
    "df_h.select(columnas_cole).head()"
   ]
  },
  {
   "cell_type": "code",
   "execution_count": null,
   "id": "0e65e739-89f8-4f1f-b37c-e70191d20fa6",
   "metadata": {},
   "outputs": [],
   "source": [
    "# Columnas estudiante\n",
    "columnas_estu = [col for col in df_h.columns if col.startswith(prefjs[1])]\n",
    "df_h.select(columnas_estu).head()"
   ]
  },
  {
   "cell_type": "code",
   "execution_count": null,
   "id": "6f01f108-2090-4839-ba38-4579b90672a9",
   "metadata": {},
   "outputs": [],
   "source": [
    "# Columnas familia\n",
    "columnas_fami = [col for col in df_h.columns if col.startswith(prefjs[2])]\n",
    "df_h.select(columnas_fami).head()"
   ]
  },
  {
   "cell_type": "code",
   "execution_count": null,
   "id": "66b039ff-2371-4293-961a-b9a8faa08d7f",
   "metadata": {},
   "outputs": [],
   "source": [
    "# Columnas puntaje\n",
    "columnas_punt = [col for col in df_h.columns if col.startswith(prefjs[3])]\n",
    "df_h.select(columnas_punt).head()"
   ]
  },
  {
   "cell_type": "code",
   "execution_count": null,
   "id": "126513a6-76eb-4164-9670-4accf8315a77",
   "metadata": {},
   "outputs": [],
   "source": [
    "# Conteo observaciones por periodo\n",
    "df_h.group_by(\"periodo\").len()"
   ]
  },
  {
   "cell_type": "code",
   "execution_count": null,
   "id": "e1faab2c-e231-4477-859c-01b3739d6627",
   "metadata": {},
   "outputs": [],
   "source": [
    "# filter periods\n",
    "df_h = df_h.filter(df_h[\"periodo\"].is_in([20171, 20172, 20191, 20194]))\n",
    "\n",
    "df_h.shape"
   ]
  },
  {
   "cell_type": "code",
   "execution_count": null,
   "id": "663df49b-d2dd-40a1-92bb-036d835248ee",
   "metadata": {},
   "outputs": [],
   "source": [
    "# sample 500.000 records\n",
    "df_h = df_h.sample(n = 500000, seed = 2025)"
   ]
  },
  {
   "cell_type": "code",
   "execution_count": null,
   "id": "f52f7163-f8e0-4d07-9e69-d238d5bcac16",
   "metadata": {},
   "outputs": [],
   "source": [
    "#clean data type\n",
    "df_h = df_h.with_columns(\n",
    "    pl.col(\"punt_matematicas\").cast(pl.Float64),\n",
    "    pl.col(\"punt_ingles\").cast(pl.Float64)\n",
    ")"
   ]
  },
  {
   "cell_type": "code",
   "execution_count": null,
   "id": "a77e328e-33f6-4acc-81d7-5f58f4a13fcf",
   "metadata": {},
   "outputs": [],
   "source": [
    "# print data type\n",
    "data_type(df_h)"
   ]
  },
  {
   "cell_type": "code",
   "execution_count": null,
   "id": "0af16622-5516-45ca-8d27-46024416f1dd",
   "metadata": {},
   "outputs": [],
   "source": [
    "cols_punt = [col for col in df_h.columns if col.startswith(\"punt_\")]\n",
    "\n",
    "df_h.select(cols_punt).describe()"
   ]
  },
  {
   "cell_type": "code",
   "execution_count": null,
   "id": "ab798791-b6fa-460b-9b65-ada66c2febf4",
   "metadata": {},
   "outputs": [],
   "source": [
    "# Arbitrary select vars\n",
    "df_h = df_h.select([\"estu_genero\", \"cole_calendario\", \"fami_educacionmadre\", \"fami_educacionpadre\",\n",
    "                    \"fami_estratovivienda\", \"fami_tienecomputador\", \"cole_area_ubicacion\", \"fami_tieneinternet\", \"punt_global\"])"
   ]
  },
  {
   "cell_type": "code",
   "execution_count": null,
   "id": "29963167-bdb9-485b-b50e-9251b6838ab0",
   "metadata": {},
   "outputs": [],
   "source": [
    "# Conteo de la cantidad de valores perdidos y su proporción por columna\n",
    "pl.DataFrame(\n",
    "    {\n",
    "        \"col_name\": df_h.columns,\n",
    "        \"missing_values\": [df_h[col].null_count() for col in df_h.columns],\n",
    "        \"propotion_missing_values\": [round((df_h[col].null_count() / df_h.shape[0]), 3) * 100 for col in df_h.columns]\n",
    "    }\n",
    ") \\\n",
    ".sort(\"missing_values\", descending = True)"
   ]
  },
  {
   "cell_type": "code",
   "execution_count": null,
   "id": "45c513d8-aaac-4d1c-aac9-41ca1c1592fc",
   "metadata": {},
   "outputs": [],
   "source": [
    "plot_null_vals(df_h)"
   ]
  },
  {
   "cell_type": "code",
   "execution_count": null,
   "id": "2c16bc57-7a34-4246-8f5f-1f355ebae4e9",
   "metadata": {},
   "outputs": [],
   "source": [
    "df_h = impute_mode(df_h)"
   ]
  },
  {
   "cell_type": "code",
   "execution_count": null,
   "id": "ad9c7108-58da-40c2-858e-9ad0db60125e",
   "metadata": {},
   "outputs": [],
   "source": [
    "# verfy delete null values\n",
    "plot_null_vals(df_h)"
   ]
  },
  {
   "cell_type": "code",
   "execution_count": null,
   "id": "fd48f69a-6945-4def-9793-ef8cd91910f7",
   "metadata": {},
   "outputs": [],
   "source": [
    "print(\"Luego de la selección arbitraria de variables y de la eliminación de datos perdidos, se observa un total de \" + str(df_h.shape[0]) +\n",
    "      \" filas y \" + str(df_h.shape[1]) + \" columnas\")"
   ]
  },
  {
   "cell_type": "code",
   "execution_count": null,
   "id": "06f10b4c-eb95-4658-a84c-69fe917968a3",
   "metadata": {},
   "outputs": [],
   "source": [
    "# print data type\n",
    "data_type(df_h)"
   ]
  },
  {
   "cell_type": "code",
   "execution_count": null,
   "id": "4248dca5-953b-4349-a8f2-aa5e54da5130",
   "metadata": {},
   "outputs": [],
   "source": [
    "# plot count unique values\n",
    "var_names_plot = df_h.columns\n",
    "\n",
    "var_names_plot.remove(\"punt_global\")\n",
    "\n",
    "titles_plots = [\"Cantidad de estudiantes desagregado por género\", \"Cantidad de estudianes desagregado por calendarios\",\n",
    "                \"Cantidad de estudiantes desagregado por nivel educativo de la madre\",\n",
    "                \"Cantidad de estudiantes desagregado por nivel educativo del padre\",\n",
    "                \"Cantidad de estudiantes desagregados por estrato\", \"Cantidad de estudiantes que tienen o no tienen computador\",\n",
    "                \"Cantidad de estudiantes desagregado por área de ubicación\",\n",
    "                \"Cantidad de estudiantes con acceso o sin acceso a internet\"]\n",
    "\n",
    "for i in range(0, len(var_names_plot)):\n",
    "    count_val = df_h[var_names_plot[i]].value_counts()\n",
    "\n",
    "    plt.barh(count_val[var_names_plot[i]], count_val[\"count\"])\n",
    "    plt.xlabel(\"Frecuencia\")\n",
    "    plt.ylabel(var_names_plot[i])\n",
    "    plt.title(titles_plots[i])\n",
    "    plt.show()\n",
    "\n",
    "plt.boxplot(df_h[\"punt_global\"])\n",
    "plt.title(\"Distribución de los puntajes globales de los estudiantes\")\n",
    "plt.show()\n"
   ]
  },
  {
   "cell_type": "code",
   "execution_count": null,
   "id": "551d6645-3582-42da-b3ac-e421eef2cea3",
   "metadata": {},
   "outputs": [],
   "source": []
  },
  {
   "cell_type": "code",
   "execution_count": null,
   "id": "dbde4d0c-f197-42a4-b5a6-b968b307af37",
   "metadata": {},
   "outputs": [],
   "source": []
  },
  {
   "cell_type": "code",
   "execution_count": null,
   "id": "ba89dac2-38da-48f9-bafa-48400fee0915",
   "metadata": {},
   "outputs": [],
   "source": []
  },
  {
   "cell_type": "code",
   "execution_count": null,
   "id": "9349fe75-f57e-46ce-8591-b4ca825d518d",
   "metadata": {},
   "outputs": [],
   "source": []
  },
  {
   "cell_type": "code",
   "execution_count": null,
   "id": "0e95c60d-4c94-40f9-8658-bac56e9696e0",
   "metadata": {},
   "outputs": [],
   "source": []
  },
  {
   "cell_type": "code",
   "execution_count": null,
   "id": "0317a21c-1961-4b75-9868-d8f351d22599",
   "metadata": {},
   "outputs": [],
   "source": []
  },
  {
   "cell_type": "code",
   "execution_count": null,
   "id": "86964c8d-8bc3-4ec6-bc90-86968cc37711",
   "metadata": {},
   "outputs": [],
   "source": []
  },
  {
   "cell_type": "code",
   "execution_count": null,
   "id": "ac9c3e66-cf7e-4061-8e26-10ae3169845d",
   "metadata": {},
   "outputs": [],
   "source": []
  }
 ],
 "metadata": {
  "kernelspec": {
   "display_name": "Python 3 (ipykernel)",
   "language": "python",
   "name": "python3"
  },
  "language_info": {
   "codemirror_mode": {
    "name": "ipython",
    "version": 3
   },
   "file_extension": ".py",
   "mimetype": "text/x-python",
   "name": "python",
   "nbconvert_exporter": "python",
   "pygments_lexer": "ipython3",
   "version": "3.13.2"
  }
 },
 "nbformat": 4,
 "nbformat_minor": 5
}
